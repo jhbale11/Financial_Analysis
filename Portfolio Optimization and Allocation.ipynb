{
 "cells": [
  {
   "cell_type": "markdown",
   "id": "b50e37e6",
   "metadata": {},
   "source": [
    "# Portfolio Optimization and Allocation\n",
    "\n",
    "## Project Abstract\n",
    "\n",
    "파이썬을 사용하여 Portfolio Optimization과 Allocation을 할 수 있는 방법을 소개하고 실습해보고자 합니다.\n",
    "\n",
    "다양한 Portfolio Optimization Strategy를 적용하고 그 결과를 확인해보고자 합니다.\n",
    "- MPT(Modern Portfolio Theory) : 주어진 Risk에서 Return을 최대화 하려는 전략입니다. \n",
    "\n",
    "**@jhbale11**"
   ]
  },
  {
   "cell_type": "markdown",
   "id": "313fbe6a",
   "metadata": {},
   "source": [
    "## Basics of the Model\n",
    "\n",
    "Portfolio Optimization을 하고자 할 때 필요한 개념은 아래와 같습니다.\n",
    "\n",
    "### 1. Porfolio Expected Return\n",
    "$$\n",
    "E(R_p) = \\sum_{i} w_iE(R_i)\n",
    "$$\n",
    "- $R_p$ : Total return of portfolio\n",
    "- $w_i$ : Weight of each asset\n",
    "- $R_i$ : Return of each asset\n",
    "\n",
    "**Expected Return**은 각각의 자산의 Weight와 그것들의 Return을 곱한 것들의 합으로 계산됩니다."
   ]
  },
  {
   "cell_type": "markdown",
   "id": "406b8706",
   "metadata": {},
   "source": [
    "### 2. Portfolio Variance\n",
    "$$\n",
    "\\sigma_p^2 = \\sum_{i} w_i^2\\sigma_i^2~+~\\sum_{i}\\sum_{j\\not=i} w_iw_j\\sigma_i\\sigma_j\\rho_{ij}\n",
    "$$\n",
    "- $w_i$ : The portfolio weight of the first asset\n",
    "- $w_j$ : The portfolio weight of the second asset\n",
    "- $σ_i$ : The standard deviation of the first asset\n",
    "- $σ_j$ : The standard deviation of the second asset\n",
    "- $\\rho_{ij}$ : The covariance of the two assets, which can thus be expressed as $\\rho_{ij}$σ1σ2, where $\\rho_{ij}$ is the correlation coefficient between the two assets\n",
    "\n",
    "**Portfolio Variance**는 모델에 잠재하는 리스크를 측정하기 위한 지표입니다. Variance가 높을수록 Portfolio에 잠재된 위험이 크다는 의미입니다."
   ]
  },
  {
   "cell_type": "markdown",
   "id": "d058ba67",
   "metadata": {},
   "source": [
    "### 3. Sharpe Ratio\n",
    "\n",
    "$$\n",
    "\\frac {R_p - R_f}{\\sigma_p}\n",
    "$$\n",
    "- $R_p$ : Return of Portfolio\n",
    "- $R_f$ : Risk-Free Rate\n",
    "- $\\sigma_p$ : Standard Deviation of the portfolio's excess return\n",
    "\n",
    "**Sharpe Ratio**는 금융에서 투자 성과를 평가함에 있어 해당 투자의 위험을 조정해 반영하는 방식입니다. Sharpe Ratio는 투자 자산 또는 매매 전략에서 위험이라 불리는 편차 한 단위 당 초과수익을 측정합니다. 즉 투자자가 부담하는 위험을 자산 수익률이 얼마나 잘 보상하는지를 규정하는 지표로서 Sharpe Ratio가 더 높을수록 동일한 위험에 대해 더 높은 수익률을 제공한다는 것을 의미합니다."
   ]
  },
  {
   "cell_type": "markdown",
   "id": "73579643",
   "metadata": {},
   "source": [
    "### 4. The Efficient Frontier -\n",
    "\n",
    "**효율적 투자선 (Efficient Frontier)** 는 Harry Markowitz 등이 발표한  Modern Portfolio Theory에서 소개된 개념입니다.  다음 그림의 원형 점들은 서로 다른 위험 (투자수익률의 표준편차 standard deviation 으로 측정)과 수익률로 구성된 개별 주식들이며 각각의 기대수익률과 위험을 그래프상에 표시한 것입니다. 일반적으로 기대수익률은 투자에 따른 위험과 비례하게 되므로 기대수익률이 높으면 그만큼 큰 위험을 감수해야 합니다. \n",
    "\n",
    "![wikepedia - Efficient Frontier](https://upload.wikimedia.org/wikipedia/commons/e/e1/Markowitz_frontier.jpg)\n",
    "\n",
    "투자를 위해 대상 주식을 선택할 때 동일한 위험을 가진 주식 중에서는 기대수익률이 높은 것이 선택되고, 동일한 기대수익률을 가진 주식들 중에서는 위험이 가장 낮은 주식이 선택됨이 당연할 것인데 이를 **지배원리 (Principle of Dominance)**라 합니다. **‘효율적 투자선’** 은 지배원리에 따라 가장 우수한 주식투자들을 선정하여 연결해 놓은 선으로서 아래 곡선 중 변곡점부터의 우상향 곡선을 말하며 이를 **‘Markowitz Bullet'** 이라고도 부릅니다.\n",
    "\n",
    "Risk-free Asset (무위험 자산, 미국 정부채를 무위험 자산으로 간주함)을 제외하고 Risky Asset인 주식에 투자할 때는 위에서 말한 곡선의 Efficient Frontier 선상에 존재하는 주식 중에서 자신의 위험선호도를 고려하여 하나를 선택하게 되지만 Risk-free Asset을 포함하여 포트폴리오를 구성하게 되면 변곡점과 Risk-free 투자안을 연결하는 직선이 새로운 ‘효율적 투자선’이 되며 이 선을 **‘자본 배분선 (CAL: Capital Allocation Line)'**이라 합니다.  \n",
    "\n",
    "투자자가 투자수익률을 극대화 하는 과정에서 Risk-free Asset과 Risky Asset간의 배분은 **자본 배분선인 CAL 위에서** 이루어진다는 의미입니다."
   ]
  },
  {
   "cell_type": "markdown",
   "id": "07a462e3",
   "metadata": {},
   "source": [
    "## Automating Portfolio Optimization in Python"
   ]
  },
  {
   "cell_type": "code",
   "execution_count": 1,
   "id": "6871bf2b",
   "metadata": {},
   "outputs": [],
   "source": [
    "import matplotlib.pyplot as plt\n",
    "import numpy as np\n",
    "import pandas as pd\n",
    "import yfinance as yf\n",
    "from matplotlib.ticker import FuncFormatter"
   ]
  },
  {
   "cell_type": "code",
   "execution_count": 2,
   "id": "aa5d0b55",
   "metadata": {},
   "outputs": [],
   "source": [
    "from pypfopt.efficient_frontier import EfficientFrontier\n",
    "from pypfopt import risk_models\n",
    "from pypfopt import expected_returns\n",
    "from pypfopt import plotting\n",
    "from pypfopt.cla import CLA\n",
    "from pypfopt import discrete_allocation\n",
    "from pypfopt import objective_functions\n",
    "from matplotlib.ticker import FuncFormatter"
   ]
  },
  {
   "cell_type": "markdown",
   "id": "778342a5",
   "metadata": {},
   "source": [
    "### 1. Load Data with yfinance\n",
    "\n",
    "yfinance로 데이터를 불러옵니다. 이번 실습에서 다루게 될 자산 항목은 나스닥 주식 및 ETF입니다. 각각의 Ticker에 대한 설명은 아래와 같습니다.\n",
    "- BSX : 중재적 방사선학, 중재적 심장학, 말초 중재술 등 중재적 의료 전문 분야에 사용되는 의료 기기 기업\n",
    "- AES : 전력 생산 및 분배 전력 회사\n",
    "- BRK-B : 워렌 버핏의 투자 목적 지수회사 버크셔해서웨이\n",
    "- SEE : 식품 포장 및 버블 랩 완충 포장과 같은 포장 회사\n",
    "- QQQ : 기초 자산으로 만들어진 ETF\n",
    "- SPY : S&P500 ETF"
   ]
  },
  {
   "cell_type": "code",
   "execution_count": 3,
   "id": "eafd6fa2",
   "metadata": {
    "scrolled": false
   },
   "outputs": [
    {
     "name": "stdout",
     "output_type": "stream",
     "text": [
      "[*********************100%***********************]  1 of 1 completed\n",
      "[*********************100%***********************]  1 of 1 completed\n",
      "[*********************100%***********************]  1 of 1 completed\n",
      "[*********************100%***********************]  1 of 1 completed\n",
      "[*********************100%***********************]  1 of 1 completed\n",
      "[*********************100%***********************]  1 of 1 completed\n"
     ]
    },
    {
     "data": {
      "text/html": [
       "<div>\n",
       "<style scoped>\n",
       "    .dataframe tbody tr th:only-of-type {\n",
       "        vertical-align: middle;\n",
       "    }\n",
       "\n",
       "    .dataframe tbody tr th {\n",
       "        vertical-align: top;\n",
       "    }\n",
       "\n",
       "    .dataframe thead th {\n",
       "        text-align: right;\n",
       "    }\n",
       "</style>\n",
       "<table border=\"1\" class=\"dataframe\">\n",
       "  <thead>\n",
       "    <tr style=\"text-align: right;\">\n",
       "      <th></th>\n",
       "      <th>BSX</th>\n",
       "      <th>AES</th>\n",
       "      <th>BRK-B</th>\n",
       "      <th>SEE</th>\n",
       "      <th>QQQ</th>\n",
       "      <th>SPY</th>\n",
       "    </tr>\n",
       "    <tr>\n",
       "      <th>Date</th>\n",
       "      <th></th>\n",
       "      <th></th>\n",
       "      <th></th>\n",
       "      <th></th>\n",
       "      <th></th>\n",
       "      <th></th>\n",
       "    </tr>\n",
       "  </thead>\n",
       "  <tbody>\n",
       "    <tr>\n",
       "      <th>2014-12-31</th>\n",
       "      <td>13.25</td>\n",
       "      <td>10.564453</td>\n",
       "      <td>150.149994</td>\n",
       "      <td>38.254536</td>\n",
       "      <td>97.376854</td>\n",
       "      <td>179.880432</td>\n",
       "    </tr>\n",
       "    <tr>\n",
       "      <th>2015-01-02</th>\n",
       "      <td>13.22</td>\n",
       "      <td>10.510746</td>\n",
       "      <td>149.169998</td>\n",
       "      <td>38.497959</td>\n",
       "      <td>97.084488</td>\n",
       "      <td>179.784149</td>\n",
       "    </tr>\n",
       "    <tr>\n",
       "      <th>2015-01-05</th>\n",
       "      <td>13.81</td>\n",
       "      <td>10.211535</td>\n",
       "      <td>147.000000</td>\n",
       "      <td>37.947998</td>\n",
       "      <td>95.660378</td>\n",
       "      <td>176.537292</td>\n",
       "    </tr>\n",
       "    <tr>\n",
       "      <th>2015-01-06</th>\n",
       "      <td>13.70</td>\n",
       "      <td>9.981374</td>\n",
       "      <td>146.839996</td>\n",
       "      <td>38.146351</td>\n",
       "      <td>94.377731</td>\n",
       "      <td>174.874496</td>\n",
       "    </tr>\n",
       "    <tr>\n",
       "      <th>2015-01-07</th>\n",
       "      <td>14.03</td>\n",
       "      <td>9.996720</td>\n",
       "      <td>148.880005</td>\n",
       "      <td>38.200443</td>\n",
       "      <td>95.594353</td>\n",
       "      <td>177.053619</td>\n",
       "    </tr>\n",
       "  </tbody>\n",
       "</table>\n",
       "</div>"
      ],
      "text/plain": [
       "              BSX        AES       BRK-B        SEE        QQQ         SPY\n",
       "Date                                                                      \n",
       "2014-12-31  13.25  10.564453  150.149994  38.254536  97.376854  179.880432\n",
       "2015-01-02  13.22  10.510746  149.169998  38.497959  97.084488  179.784149\n",
       "2015-01-05  13.81  10.211535  147.000000  37.947998  95.660378  176.537292\n",
       "2015-01-06  13.70   9.981374  146.839996  38.146351  94.377731  174.874496\n",
       "2015-01-07  14.03   9.996720  148.880005  38.200443  95.594353  177.053619"
      ]
     },
     "execution_count": 3,
     "metadata": {},
     "output_type": "execute_result"
    }
   ],
   "source": [
    "# Set the start and end date\n",
    "start_date = '2015-01-01'\n",
    "end_date = '2022-03-15'\n",
    "\n",
    "# Define the ticker list\n",
    "tickers_list = ['BSX','AES','BRK-B','SEE','QQQ','SPY']\n",
    "\n",
    "# Create placeholder for data\n",
    "data = pd.DataFrame(columns=tickers_list)\n",
    "\n",
    "# Fetch the data\n",
    "for ticker in tickers_list:\n",
    "    data[ticker] = yf.download(ticker, \n",
    "                               start_date,\n",
    "                               end_date)['Adj Close']\n",
    "    \n",
    "# Print first 5 rows of the data\n",
    "data.head()"
   ]
  },
  {
   "cell_type": "markdown",
   "id": "b66bcfb4",
   "metadata": {},
   "source": [
    "### 2. Preprocessing\n",
    "\n",
    "데이터에 결측치가 있는지 확인합니다."
   ]
  },
  {
   "cell_type": "code",
   "execution_count": 4,
   "id": "f3550b65",
   "metadata": {},
   "outputs": [
    {
     "name": "stdout",
     "output_type": "stream",
     "text": [
      "BSX      0\n",
      "AES      0\n",
      "BRK-B    0\n",
      "SEE      0\n",
      "QQQ      0\n",
      "SPY      0\n",
      "dtype: int64\n"
     ]
    }
   ],
   "source": [
    "nullin_df = pd.DataFrame(data, columns=tickers_list)\n",
    "print(nullin_df.isnull().sum())"
   ]
  },
  {
   "cell_type": "markdown",
   "id": "56168eb8",
   "metadata": {},
   "source": [
    "### 3. Calculations\n",
    "\n",
    "먼저 Expected Return과 Portfolio Variance를 계산합니다."
   ]
  },
  {
   "cell_type": "code",
   "execution_count": 5,
   "id": "fae56fdf",
   "metadata": {},
   "outputs": [
    {
     "name": "stdout",
     "output_type": "stream",
     "text": [
      "BSX      0.173643\n",
      "AES      0.105431\n",
      "BRK-B    0.115726\n",
      "SEE      0.079050\n",
      "QQQ      0.178792\n",
      "SPY      0.123558\n",
      "dtype: float64\n",
      "            BSX       AES     BRK-B       SEE       QQQ       SPY\n",
      "BSX    0.080249  0.038136  0.030152  0.034427  0.034307  0.032764\n",
      "AES    0.038136  0.105645  0.031476  0.046304  0.031079  0.032810\n",
      "BRK-B  0.030152  0.031476  0.040342  0.029157  0.027298  0.029085\n",
      "SEE    0.034427  0.046304  0.029157  0.093925  0.023995  0.027023\n",
      "QQQ    0.034307  0.031079  0.027298  0.023995  0.045429  0.034948\n",
      "SPY    0.032764  0.032810  0.029085  0.027023  0.034948  0.031644\n"
     ]
    }
   ],
   "source": [
    "#Annualized Return\n",
    "mu = expected_returns.mean_historical_return(data)\n",
    "print(mu)\n",
    "\n",
    "#Sample Variance of Portfolio\n",
    "Sigma = risk_models.sample_cov(data)\n",
    "print(Sigma)"
   ]
  },
  {
   "cell_type": "markdown",
   "id": "de1c7773",
   "metadata": {},
   "source": [
    "Portfolio Weight와 함께 최대 Sharpe Ratio와 최소 Volatility를 각각 계산합니다."
   ]
  },
  {
   "cell_type": "markdown",
   "id": "adafc902",
   "metadata": {},
   "source": [
    "### Max Sharpe Ratio Analysis\n",
    "\n",
    "Efficient Frontier 결과에 어떠한 Objective Function도 붙이지 않은 경우에는 Weight가 음수가 될 수 있습니다. 이 경우 ef 객체에 적절한 Objective Function을 결합하여 각각의 Weight가 0 이상으로 만들어주어야 합니다."
   ]
  },
  {
   "cell_type": "code",
   "execution_count": 6,
   "id": "2c8e647d",
   "metadata": {
    "scrolled": true
   },
   "outputs": [
    {
     "name": "stdout",
     "output_type": "stream",
     "text": [
      "Sharpe Portfolio :  OrderedDict([('BSX', 0.3160730317051014), ('AES', -0.0237378193507896), ('BRK-B', 0.4261827242495405), ('SEE', -0.0641585510709601), ('QQQ', 1.0), ('SPY', -0.6543593855328921)])\n",
      "Sharpe Portfolio Weight :  OrderedDict([('BSX', 0.31607), ('AES', -0.02374), ('BRK-B', 0.42618), ('SEE', -0.06416), ('QQQ', 1.0), ('SPY', -0.65436)])\n"
     ]
    }
   ],
   "source": [
    "#Max Sharpe Ratio - Tangent to the EF\n",
    "ef = EfficientFrontier(mu, Sigma, weight_bounds=(-1,1)) #weight bounds in negative allows shorting of stocks\n",
    "sharpe_pfolio=ef.max_sharpe()\n",
    "sharpe_pwt=ef.clean_weights()\n",
    "print('Sharpe Portfolio : ', sharpe_pfolio)\n",
    "print('Sharpe Portfolio Weight : ', sharpe_pwt)"
   ]
  },
  {
   "cell_type": "code",
   "execution_count": 7,
   "id": "ee8694a7",
   "metadata": {
    "scrolled": false
   },
   "outputs": [
    {
     "name": "stdout",
     "output_type": "stream",
     "text": [
      "Expected annual return: 19.5%\n",
      "Annual volatility: 21.7%\n",
      "Sharpe Ratio: 0.81\n"
     ]
    },
    {
     "data": {
      "text/plain": [
       "(0.19457080110334385, 0.2168175948841596, 0.805150528473544)"
      ]
     },
     "execution_count": 7,
     "metadata": {},
     "output_type": "execute_result"
    }
   ],
   "source": [
    "ef.portfolio_performance(verbose=True)"
   ]
  },
  {
   "cell_type": "markdown",
   "id": "36d32fb5",
   "metadata": {},
   "source": [
    "### Critical Line Algorithm"
   ]
  },
  {
   "cell_type": "code",
   "execution_count": 8,
   "id": "8f0f1a55",
   "metadata": {
    "scrolled": true
   },
   "outputs": [
    {
     "name": "stdout",
     "output_type": "stream",
     "text": [
      "OrderedDict([('BSX', 0.1690637407402506), ('AES', 0.0), ('BRK-B', 0.016410918828387848), ('SEE', -4.127122174335091e-19), ('QQQ', 0.8145253404313616), ('SPY', 0.0)])\n",
      "Expected annual return: 17.7%\n",
      "Annual volatility: 20.7%\n",
      "Sharpe Ratio: 0.76\n"
     ]
    },
    {
     "data": {
      "text/plain": [
       "(0.17688647290550885, 0.2068577842694725, 0.7584267300336821)"
      ]
     },
     "execution_count": 8,
     "metadata": {},
     "output_type": "execute_result"
    }
   ],
   "source": [
    "cla = CLA(mu, Sigma)\n",
    "print(cla.max_sharpe())\n",
    "cla.portfolio_performance(verbose=True)"
   ]
  },
  {
   "cell_type": "code",
   "execution_count": 9,
   "id": "ccb6e5ff",
   "metadata": {
    "scrolled": true
   },
   "outputs": [
    {
     "data": {
      "text/plain": [
       "<AxesSubplot:xlabel='Volatility', ylabel='Return'>"
      ]
     },
     "execution_count": 9,
     "metadata": {},
     "output_type": "execute_result"
    },
    {
     "data": {
      "image/png": "[encoded data removed]",
      "text/plain": [
       "<Figure size 432x288 with 1 Axes>"
      ]
     },
     "metadata": {
      "needs_background": "light"
     },
     "output_type": "display_data"
    }
   ],
   "source": [
    "plotting.plot_efficient_frontier(cla)"
   ]
  },
  {
   "cell_type": "markdown",
   "id": "72a19d9e",
   "metadata": {},
   "source": [
    "### Tangency Portfolio\n",
    "\n",
    "Tangency Portfolio는 CAL과 Frontier의 접점입니다. 수많은 투자 대상들을 다양한 방식으로 조합한 매우 효율적인 포트폴리오라고도 할 수 있습니다. Tagency Portfolio를 수식으로 표현하면 아래와 같습니다.\n",
    "\n",
    "$$\n",
    "E(r_i) = r_F + [E(r_M) - r_F]\\beta_i,~~ where \\beta_i = \\frac{cov(r_i, r_M}{\\sigma_M^2}\n",
    "$$\n",
    "\n",
    "- $E(r_i)$ : 임의의 종목 i의 수익률\n",
    "- $E(r_M)$ : Tagency Portfolio의 수익률\n",
    "\n",
    "직관적으로 해석하면 임의의 투자 종목은 시장 전체의 수익률의 흐름에 영향을 받는다는 것입니다."
   ]
  },
  {
   "cell_type": "code",
   "execution_count": 17,
   "id": "c5b0f5b4",
   "metadata": {},
   "outputs": [
    {
     "name": "stdout",
     "output_type": "stream",
     "text": [
      "Tangent Portfolio Weight :  OrderedDict([('BSX', 0.268935910130012), ('AES', 0.0411661305172061), ('BRK-B', 0.1491153127668476), ('SEE', 0.0), ('QQQ', 0.3784264866564218), ('SPY', 0.1623561599295123)])\n",
      "Expected annual return: 15.6%\n",
      "Annual volatility: 19.5%\n",
      "Sharpe Ratio: 0.70\n"
     ]
    },
    {
     "data": {
      "text/plain": [
       "(0.1560156300041013, 0.19468908395354032, 0.6986299757646373)"
      ]
     },
     "execution_count": 17,
     "metadata": {},
     "output_type": "execute_result"
    }
   ],
   "source": [
    "ef = EfficientFrontier(mu, Sigma)\n",
    "ef.add_objective(objective_functions.L2_reg, gamma=0.1)\n",
    "tan_w = ef.max_sharpe()\n",
    "print('Tangent Portfolio Weight : ', tan_w)\n",
    "ef.portfolio_performance(verbose=True)"
   ]
  },
  {
   "cell_type": "markdown",
   "id": "cc25e0e3",
   "metadata": {},
   "source": [
    "### 4. Optimizing Portfolio Allocation\n",
    "\n",
    "**Min Volatility Portfolio**와 **Tagency Portfolio**의 경우 Allocation이 어떻게 되는지 시뮬레이션 해보고자 합니다.\n",
    "전체 자산액 10000$가 있을 때 각각의 Portfolio의 자산 분배 현황을 나타내보겠습니다."
   ]
  },
  {
   "cell_type": "markdown",
   "id": "c29e79fe",
   "metadata": {},
   "source": [
    "### Min Volatility Portfolio"
   ]
  },
  {
   "cell_type": "code",
   "execution_count": 19,
   "id": "7ab58d47",
   "metadata": {
    "scrolled": false
   },
   "outputs": [
    {
     "name": "stdout",
     "output_type": "stream",
     "text": [
      "Total Asset($) :  10000.0\n",
      "Total buy($) :  9945.022644042969 , leftover($) : 54.97735595703125\n",
      "{'BRK-B': 5, 'SEE': 6, 'SPY': 19}\n"
     ]
    }
   ],
   "source": [
    "latest_prices = discrete_allocation.get_latest_prices(data)\n",
    "\n",
    "#Min Volatility Portfolio Allocation $10000\n",
    "minvol_pwt = cla.min_volatility()\n",
    "allocation_minv, rem_minv = discrete_allocation.DiscreteAllocation(minvol_pwt, latest_prices, total_portfolio_value=10000).lp_portfolio()\n",
    "\n",
    "buy = 0\n",
    "money = 10000.0\n",
    "for k  in allocation_minv:\n",
    "    buy += latest_prices[k] * allocation_minv[k]\n",
    "print(\"Total Asset($) : \", money)\n",
    "print(\"Total buy($) : \", buy, \", leftover($) :\", money - buy)\n",
    "print(allocation_minv)"
   ]
  },
  {
   "cell_type": "markdown",
   "id": "ccc4b02a",
   "metadata": {},
   "source": [
    "### Tangency Portfolio"
   ]
  },
  {
   "cell_type": "markdown",
   "id": "f48bd12e",
   "metadata": {},
   "source": [
    "Tangency Portfolio에도 같은 방법을 사용하면 다음과 같습니다."
   ]
  },
  {
   "cell_type": "code",
   "execution_count": 14,
   "id": "ccd9327a",
   "metadata": {},
   "outputs": [],
   "source": [
    "def print_orderdict(dict, postfix='%', space=8, title='', line=5):\n",
    "    print(title)\n",
    "    idx = 0\n",
    "    for i in dict:\n",
    "        idx += 1\n",
    "        if postfix=='%':\n",
    "            num = str(round(dict[i]*100, 2))\n",
    "        else:\n",
    "            num = str(dict[i])\n",
    "        print(i.ljust(6), (num+postfix).rjust(space), end=\" | \")\n",
    "        if idx % line == 0:\n",
    "            print()"
   ]
  },
  {
   "cell_type": "code",
   "execution_count": 16,
   "id": "cb411ba2",
   "metadata": {
    "scrolled": true
   },
   "outputs": [
    {
     "name": "stdout",
     "output_type": "stream",
     "text": [
      "Total Asset($) :  20000.0\n",
      "Total buy($) :  19983.460578918457 , leftover($) : 16.53942108154297\n",
      "** Optimal Weights **\n",
      "BSX     126 stk | AES      36 stk | BRK-B     9 stk | QQQ      24 stk | SPY       8 stk | \n"
     ]
    }
   ],
   "source": [
    "latest_prices = discrete_allocation.get_latest_prices(data)\n",
    "allocation_tan, rem_tan = discrete_allocation.DiscreteAllocation(tan_w, latest_prices, total_portfolio_value=20000).lp_portfolio()\n",
    "\n",
    "buy = 0\n",
    "money = 20000.0\n",
    "for k  in allocation_tan:\n",
    "    buy += latest_prices[k] * allocation_tan[k]\n",
    "print(\"Total Asset($) : \", money)\n",
    "print(\"Total buy($) : \", buy, \", leftover($) :\", money - buy)\n",
    "print_orderdict(allocation_tan, \n",
    "                postfix=\" stk\",\n",
    "                title=\"** Optimal Weights **\")"
   ]
  },
  {
   "cell_type": "markdown",
   "id": "3c8ab32f",
   "metadata": {},
   "source": [
    "## Conclusion\n",
    "\n",
    "- pypfopt라는 라이브러리를 통해 Portfolio Optimization 및 Allocation을 실습해보았습니다.\n",
    "- ML / DL Asset Allocation에 pypfopt 라이브러리의 가능성을 확인할 수 있었으며, Automatd Portfolio에 대한 프로젝트를 이어갈 계획입니다."
   ]
  }
 ],
 "metadata": {
  "kernelspec": {
   "display_name": "Python 3 (ipykernel)",
   "language": "python",
   "name": "python3"
  },
  "language_info": {
   "codemirror_mode": {
    "name": "ipython",
    "version": 3
   },
   "file_extension": ".py",
   "mimetype": "text/x-python",
   "name": "python",
   "nbconvert_exporter": "python",
   "pygments_lexer": "ipython3",
   "version": "3.9.7"
  }
 },
 "nbformat": 4,
 "nbformat_minor": 5
}
